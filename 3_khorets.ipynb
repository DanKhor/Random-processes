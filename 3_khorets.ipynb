{
 "cells": [
  {
   "cell_type": "code",
   "execution_count": 1,
   "metadata": {},
   "outputs": [],
   "source": [
    "import numpy as np\n",
    "import scipy.stats as stats\n",
    "import scipy.linalg as LA\n",
    "import matplotlib.pyplot as plt\n",
    "import seaborn as sns \n",
    "sns.set()"
   ]
  },
  {
   "cell_type": "code",
   "execution_count": 2,
   "metadata": {},
   "outputs": [],
   "source": [
    "M1 = np.array([[1/4, 3/4, 0, 0], [1/2, 0, 1/2, 0], [0, 1/2, 0, 1/2],\n",
    "               [0, 0, 3/4, 1/4]])\n",
    "M2 = np.array([[2/9, 1/3, 0, 4/9], [4/9, 1/9, 0, 4/9], [2/9, 2/9, 2/9, 1/3],\n",
    "               [2/9, 2/9, 4/9, 1/9]])\n",
    "M3 = np.array([[4/9, 0, 2/9, 1/3], [0, 4/9, 2/9, 1/3], [0, 2/3, 0, 1/3],\n",
    "               [4/9, 2/9, 2/9, 1/9]])"
   ]
  },
  {
   "cell_type": "code",
   "execution_count": 3,
   "metadata": {},
   "outputs": [],
   "source": [
    "#Стационарное распределение - левый собственный вектор с с.з. = 1\n",
    "def stationary(M):\n",
    "    evals, evecs = np.linalg.eig(M.T)\n",
    "    evec1 = evecs[:,np.isclose(evals, 1)]\n",
    "    evec1 = evec1[:,0]\n",
    "\n",
    "    stationary = evec1 / evec1.sum()\n",
    "    stationary = stationary.real\n",
    "    \n",
    "    return stationary "
   ]
  },
  {
   "cell_type": "markdown",
   "metadata": {},
   "source": [
    "<h4> Найдем стационарные распредления "
   ]
  },
  {
   "cell_type": "code",
   "execution_count": 4,
   "metadata": {},
   "outputs": [
    {
     "data": {
      "text/plain": [
       "array([0.2, 0.3, 0.3, 0.2])"
      ]
     },
     "execution_count": 4,
     "metadata": {},
     "output_type": "execute_result"
    }
   ],
   "source": [
    "stationary(M1)"
   ]
  },
  {
   "cell_type": "code",
   "execution_count": 5,
   "metadata": {},
   "outputs": [
    {
     "data": {
      "text/plain": [
       "array([0.27272727, 0.22727273, 0.18181818, 0.31818182])"
      ]
     },
     "execution_count": 5,
     "metadata": {},
     "output_type": "execute_result"
    }
   ],
   "source": [
    "stationary(M2)"
   ]
  },
  {
   "cell_type": "code",
   "execution_count": 6,
   "metadata": {},
   "outputs": [
    {
     "data": {
      "text/plain": [
       "array([0.21818182, 0.32727273, 0.18181818, 0.27272727])"
      ]
     },
     "execution_count": 6,
     "metadata": {},
     "output_type": "execute_result"
    }
   ],
   "source": [
    "stationary(M3)"
   ]
  },
  {
   "cell_type": "markdown",
   "metadata": {},
   "source": [
    "<h4> Возведем матрицу в степени: 5, 10, 20, 30, 50 "
   ]
  },
  {
   "cell_type": "code",
   "execution_count": 7,
   "metadata": {},
   "outputs": [],
   "source": [
    "def pow(M, degs):\n",
    "    for i in degs:\n",
    "        print('-'*75)\n",
    "        print('В степени ' + str(i) + ' :')\n",
    "        print(np.linalg.matrix_power(M, i))"
   ]
  },
  {
   "cell_type": "code",
   "execution_count": 8,
   "metadata": {},
   "outputs": [],
   "source": [
    "degs = (5, 10, 20, 30, 50)"
   ]
  },
  {
   "cell_type": "code",
   "execution_count": 9,
   "metadata": {
    "scrolled": true
   },
   "outputs": [
    {
     "name": "stdout",
     "output_type": "stream",
     "text": [
      "---------------------------------------------------------------------------\n",
      "В степени 5 :\n",
      "[[0.17675781 0.43066406 0.16992188 0.22265625]\n",
      " [0.28710938 0.14648438 0.453125   0.11328125]\n",
      " [0.11328125 0.453125   0.14648438 0.28710938]\n",
      " [0.22265625 0.16992188 0.43066406 0.17675781]]\n",
      "---------------------------------------------------------------------------\n",
      "В степени 10 :\n",
      "[[0.22371578 0.25403881 0.34596062 0.17628479]\n",
      " [0.16935921 0.36967659 0.23032379 0.23064041]\n",
      " [0.23064041 0.23032379 0.36967659 0.16935921]\n",
      " [0.17628479 0.34596062 0.25403881 0.22371578]]\n",
      "---------------------------------------------------------------------------\n",
      "В степени 20 :\n",
      "[[0.20394139 0.29141525 0.30858475 0.19605861]\n",
      " [0.19427683 0.31252614 0.28747386 0.20572317]\n",
      " [0.20572317 0.28747386 0.31252614 0.19427683]\n",
      " [0.19605861 0.30858475 0.29141525 0.20394139]]\n",
      "---------------------------------------------------------------------------\n",
      "В степени 30 :\n",
      "[[0.20071303 0.29844139 0.30155861 0.19928697]\n",
      " [0.19896093 0.30227164 0.29772836 0.20103907]\n",
      " [0.20103907 0.29772836 0.30227164 0.19896093]\n",
      " [0.19928697 0.30155861 0.29844139 0.20071303]]\n",
      "---------------------------------------------------------------------------\n",
      "В степени 50 :\n",
      "[[0.20002346 0.29994871 0.30005129 0.19997654]\n",
      " [0.19996581 0.30007475 0.29992525 0.20003419]\n",
      " [0.20003419 0.29992525 0.30007475 0.19996581]\n",
      " [0.19997654 0.30005129 0.29994871 0.20002346]]\n"
     ]
    }
   ],
   "source": [
    "pow(M1, degs)"
   ]
  },
  {
   "cell_type": "code",
   "execution_count": 10,
   "metadata": {
    "scrolled": true
   },
   "outputs": [
    {
     "name": "stdout",
     "output_type": "stream",
     "text": [
      "---------------------------------------------------------------------------\n",
      "В степени 5 :\n",
      "[[0.27251943 0.22748903 0.18154414 0.31844739]\n",
      " [0.27306136 0.22694711 0.18154414 0.31844739]\n",
      " [0.27268878 0.22730275 0.18174736 0.31826111]\n",
      " [0.27268878 0.22730275 0.18228929 0.31771918]]\n",
      "---------------------------------------------------------------------------\n",
      "В степени 10 :\n",
      "[[0.27272739 0.22727261 0.18181832 0.31818168]\n",
      " [0.27272709 0.22727291 0.18181832 0.31818168]\n",
      " [0.27272729 0.22727271 0.18181823 0.31818177]\n",
      " [0.27272729 0.22727271 0.18181793 0.31818207]]\n",
      "---------------------------------------------------------------------------\n",
      "В степени 20 :\n",
      "[[0.27272727 0.22727273 0.18181818 0.31818182]\n",
      " [0.27272727 0.22727273 0.18181818 0.31818182]\n",
      " [0.27272727 0.22727273 0.18181818 0.31818182]\n",
      " [0.27272727 0.22727273 0.18181818 0.31818182]]\n",
      "---------------------------------------------------------------------------\n",
      "В степени 30 :\n",
      "[[0.27272727 0.22727273 0.18181818 0.31818182]\n",
      " [0.27272727 0.22727273 0.18181818 0.31818182]\n",
      " [0.27272727 0.22727273 0.18181818 0.31818182]\n",
      " [0.27272727 0.22727273 0.18181818 0.31818182]]\n",
      "---------------------------------------------------------------------------\n",
      "В степени 50 :\n",
      "[[0.27272727 0.22727273 0.18181818 0.31818182]\n",
      " [0.27272727 0.22727273 0.18181818 0.31818182]\n",
      " [0.27272727 0.22727273 0.18181818 0.31818182]\n",
      " [0.27272727 0.22727273 0.18181818 0.31818182]]\n"
     ]
    }
   ],
   "source": [
    "pow(M2, degs)"
   ]
  },
  {
   "cell_type": "code",
   "execution_count": 11,
   "metadata": {
    "scrolled": true
   },
   "outputs": [
    {
     "name": "stdout",
     "output_type": "stream",
     "text": [
      "---------------------------------------------------------------------------\n",
      "В степени 5 :\n",
      "[[0.2284882  0.31672001 0.18191671 0.27287507]\n",
      " [0.21114667 0.33406154 0.18191671 0.27287507]\n",
      " [0.21114667 0.33460346 0.18137479 0.27287507]\n",
      " [0.22306898 0.32268116 0.18191671 0.27233315]]\n",
      "---------------------------------------------------------------------------\n",
      "В степени 10 :\n",
      "[[0.21836231 0.32709237 0.18181813 0.27272719]\n",
      " [0.21806158 0.3273931  0.18181813 0.27272719]\n",
      " [0.21806158 0.32739281 0.18181842 0.27272719]\n",
      " [0.21826187 0.32719252 0.18181813 0.27272749]]\n",
      "---------------------------------------------------------------------------\n",
      "В степени 20 :\n",
      "[[0.21818187 0.32727267 0.18181818 0.27272727]\n",
      " [0.21818178 0.32727276 0.18181818 0.27272727]\n",
      " [0.21818178 0.32727276 0.18181818 0.27272727]\n",
      " [0.21818184 0.3272727  0.18181818 0.27272727]]\n",
      "---------------------------------------------------------------------------\n",
      "В степени 30 :\n",
      "[[0.21818182 0.32727273 0.18181818 0.27272727]\n",
      " [0.21818182 0.32727273 0.18181818 0.27272727]\n",
      " [0.21818182 0.32727273 0.18181818 0.27272727]\n",
      " [0.21818182 0.32727273 0.18181818 0.27272727]]\n",
      "---------------------------------------------------------------------------\n",
      "В степени 50 :\n",
      "[[0.21818182 0.32727273 0.18181818 0.27272727]\n",
      " [0.21818182 0.32727273 0.18181818 0.27272727]\n",
      " [0.21818182 0.32727273 0.18181818 0.27272727]\n",
      " [0.21818182 0.32727273 0.18181818 0.27272727]]\n"
     ]
    }
   ],
   "source": [
    "pow(M3, degs)"
   ]
  },
  {
   "cell_type": "markdown",
   "metadata": {},
   "source": [
    "<h3> №2"
   ]
  },
  {
   "cell_type": "code",
   "execution_count": 47,
   "metadata": {},
   "outputs": [],
   "source": [
    "transition_matrix = np.array([[2/3, 1/3], [1/4, 3/4]])"
   ]
  },
  {
   "cell_type": "code",
   "execution_count": 48,
   "metadata": {},
   "outputs": [],
   "source": [
    "state = np.array([1/2, 1/2])"
   ]
  },
  {
   "cell_type": "code",
   "execution_count": 49,
   "metadata": {},
   "outputs": [],
   "source": [
    "def markov_simulation(state, transition_matrix, n):\n",
    "    chain = stats.bernoulli.rvs(state[1], loc=1, size=1) #X_0\n",
    "    for i in range(n):\n",
    "        state = np.dot(transition_matrix.T, state)\n",
    "        chain = np.append(chain, stats.bernoulli.rvs(transition_matrix[chain[-1]-1][1], loc=1, size = 1))\n",
    "    return chain "
   ]
  },
  {
   "cell_type": "code",
   "execution_count": 52,
   "metadata": {},
   "outputs": [
    {
     "data": {
      "text/plain": [
       "array([2, 2, 1, 1, 2, 1, 2, 1, 1, 1, 2])"
      ]
     },
     "execution_count": 52,
     "metadata": {},
     "output_type": "execute_result"
    }
   ],
   "source": [
    "markov_simulation(state, transition_matrix, 10)"
   ]
  },
  {
   "cell_type": "code",
   "execution_count": 53,
   "metadata": {},
   "outputs": [
    {
     "data": {
      "text/plain": [
       "array([0.42857143, 0.57142857])"
      ]
     },
     "execution_count": 53,
     "metadata": {},
     "output_type": "execute_result"
    }
   ],
   "source": [
    "stationary(transition_matrix)"
   ]
  },
  {
   "cell_type": "markdown",
   "metadata": {},
   "source": [
    "<h4>$$ Вычислим \\quad P(\\varepsilon_{10} = 2 | \\varepsilon_{2} = 1) $$"
   ]
  },
  {
   "cell_type": "code",
   "execution_count": 55,
   "metadata": {},
   "outputs": [
    {
     "name": "stdout",
     "output_type": "stream",
     "text": [
      "Probability Monte-Carlo: 0.5719\n"
     ]
    }
   ],
   "source": [
    "positive = 0\n",
    "for i in range(10000):\n",
    "    sample = markov_simulation(transition_matrix[0], transition_matrix, 8)\n",
    "    if (sample[8] == 2):\n",
    "        positive += 1\n",
    "print('Probability Monte-Carlo:', positive/10000)"
   ]
  },
  {
   "cell_type": "markdown",
   "metadata": {},
   "source": [
    "Вычислим точное значение вероятности "
   ]
  },
  {
   "cell_type": "code",
   "execution_count": 56,
   "metadata": {},
   "outputs": [
    {
     "name": "stdout",
     "output_type": "stream",
     "text": [
      "Accurate Probability: 0.5709094463407113\n"
     ]
    }
   ],
   "source": [
    "print('Accurate Probability:', np.linalg.matrix_power(transition_matrix, 8)[0][1])"
   ]
  },
  {
   "cell_type": "code",
   "execution_count": 57,
   "metadata": {},
   "outputs": [
    {
     "data": {
      "text/plain": [
       "array([[0.42909055, 0.57090945],\n",
       "       [0.42818208, 0.57181792]])"
      ]
     },
     "execution_count": 57,
     "metadata": {},
     "output_type": "execute_result"
    }
   ],
   "source": [
    "np.linalg.matrix_power(transition_matrix, 8)"
   ]
  },
  {
   "cell_type": "code",
   "execution_count": 58,
   "metadata": {},
   "outputs": [
    {
     "data": {
      "text/plain": [
       "array([0.42858269, 0.57141731])"
      ]
     },
     "execution_count": 58,
     "metadata": {},
     "output_type": "execute_result"
    }
   ],
   "source": [
    "np.dot(np.linalg.matrix_power(transition_matrix, 10).T, state) # P(\\epsilon_{10} = i)"
   ]
  },
  {
   "cell_type": "markdown",
   "metadata": {},
   "source": [
    "<h3> №3"
   ]
  },
  {
   "cell_type": "code",
   "execution_count": 59,
   "metadata": {},
   "outputs": [],
   "source": [
    "xk = np.array([1, 2, 3])"
   ]
  },
  {
   "cell_type": "code",
   "execution_count": 60,
   "metadata": {},
   "outputs": [],
   "source": [
    "def simulation_3(state, transition_matrix, n):\n",
    "    mark = stats.rv_discrete(name='mark', values=(xk, state))\n",
    "    real = mark.rvs(size=1)\n",
    "    for i in range(n):\n",
    "        state = np.dot(transition_matrix.T, state)\n",
    "        mark = stats.rv_discrete(name='mark', values=(xk, transition_matrix[real[-1]-1]))\n",
    "        val = mark.rvs(size=1)\n",
    "        real = np.append(real, val)\n",
    "    return state, real "
   ]
  },
  {
   "cell_type": "code",
   "execution_count": 61,
   "metadata": {},
   "outputs": [],
   "source": [
    "state1 = np.array([6/17, 5/17, 6/17])"
   ]
  },
  {
   "cell_type": "code",
   "execution_count": 62,
   "metadata": {},
   "outputs": [],
   "source": [
    "trans = np.array([[1/3, 1/3, 1/3], [1/5, 2/5, 2/5], [1/2, 1/6, 1/3]])"
   ]
  },
  {
   "cell_type": "code",
   "execution_count": 63,
   "metadata": {},
   "outputs": [
    {
     "data": {
      "text/plain": [
       "array([0.35294118, 0.29411765, 0.35294118])"
      ]
     },
     "execution_count": 63,
     "metadata": {},
     "output_type": "execute_result"
    }
   ],
   "source": [
    "stationary(trans)"
   ]
  },
  {
   "cell_type": "markdown",
   "metadata": {},
   "source": [
    "<h4> $$ Распределение \\varepsilon_{1} $$"
   ]
  },
  {
   "cell_type": "code",
   "execution_count": 64,
   "metadata": {},
   "outputs": [
    {
     "data": {
      "text/plain": [
       "(array([0.35294118, 0.29411765, 0.35294118]), array([3, 1]))"
      ]
     },
     "execution_count": 64,
     "metadata": {},
     "output_type": "execute_result"
    }
   ],
   "source": [
    "simulation_3(state1, trans, 1)"
   ]
  },
  {
   "cell_type": "markdown",
   "metadata": {},
   "source": [
    "<h4> $$ Распределение \\varepsilon_{8} $$"
   ]
  },
  {
   "cell_type": "code",
   "execution_count": 67,
   "metadata": {},
   "outputs": [
    {
     "data": {
      "text/plain": [
       "(array([0.35294118, 0.29411765, 0.35294118]),\n",
       " array([3, 1, 2, 2, 3, 1, 1, 3, 1]))"
      ]
     },
     "execution_count": 67,
     "metadata": {},
     "output_type": "execute_result"
    }
   ],
   "source": [
    "simulation_3(state1, trans, 8)"
   ]
  },
  {
   "cell_type": "markdown",
   "metadata": {},
   "source": [
    "<h4> $$ Распределение \\varepsilon_{8} $$"
   ]
  },
  {
   "cell_type": "code",
   "execution_count": 68,
   "metadata": {},
   "outputs": [
    {
     "data": {
      "text/plain": [
       "(array([0.35294118, 0.29411765, 0.35294118]),\n",
       " array([3, 1, 3, 1, 2, 2, 1, 1, 2, 1, 1, 2, 1, 1, 3, 2, 3, 3, 3, 2, 2, 2,\n",
       "        2, 1, 1, 1, 1, 2, 2, 2, 2]))"
      ]
     },
     "execution_count": 68,
     "metadata": {},
     "output_type": "execute_result"
    }
   ],
   "source": [
    "simulation_3(state1, trans, 30)"
   ]
  },
  {
   "cell_type": "code",
   "execution_count": 69,
   "metadata": {},
   "outputs": [
    {
     "data": {
      "image/png": "[encoded data removed]",
      "text/plain": [
       "<Figure size 1440x360 with 1 Axes>"
      ]
     },
     "metadata": {},
     "output_type": "display_data"
    }
   ],
   "source": [
    "fig, ax = plt.subplots(figsize=(20, 5))\n",
    "ax.plot(range(31), simulation_3(state1, trans, 30)[1], '-r')\n",
    "ax.set_title('Траектория длины 30')\n",
    "ax.set_xlabel('Time')\n",
    "ax.set_ylabel('Value')\n",
    "ax.set_yticks([1, 2, 3])\n",
    "ax.set_xticks(range(31))\n",
    "plt.show()"
   ]
  },
  {
   "cell_type": "markdown",
   "metadata": {},
   "source": [
    "<h3> №4"
   ]
  },
  {
   "cell_type": "code",
   "execution_count": 70,
   "metadata": {},
   "outputs": [],
   "source": [
    "def markov_time(state, transition_matrix, n):\n",
    "    \n",
    "    sample = simulation_3(state, transition_matrix, n)[1]\n",
    "    time_in = []*3\n",
    "    for i in range(1, 4):\n",
    "        time_in.append(np.count_nonzero(sample == i))\n",
    "        \n",
    "    index_1 = np.where(sample == 1)[0]\n",
    "    index_2 = np.where(sample == 2)[0]\n",
    "    index_3 = np.where(sample == 3)[0]\n",
    "    \n",
    "    ret_1, ret_2, ret_3 = [], [], []\n",
    "    \n",
    "    for i in range(len(index_1)-1):\n",
    "        if (index_1[i+1] - index_1[i]) != 1:\n",
    "            ret_1.append(index_1[i+1] - index_1[i] - 1)\n",
    "            \n",
    "    for i in range(len(index_2)-1):\n",
    "        if (index_2[i+1] - index_2[i]) != 1:\n",
    "            ret_2.append(index_2[i+1] - index_2[i] - 1)\n",
    "    \n",
    "    for i in range(len(index_3)-1):\n",
    "        if (index_3[i+1] - index_3[i]) != 1:\n",
    "            ret_3.append(index_3[i+1] - index_3[i] - 1)\n",
    "            \n",
    "    return time_in, ret_1, ret_2, ret_3"
   ]
  },
  {
   "cell_type": "code",
   "execution_count": 71,
   "metadata": {},
   "outputs": [
    {
     "data": {
      "text/plain": [
       "[356, 298, 347]"
      ]
     },
     "metadata": {},
     "output_type": "display_data"
    }
   ],
   "source": [
    "time_in, ret_1, ret_2, ret_3 = markov_time(state1, trans, 1000)\n",
    "display(time_in)"
   ]
  },
  {
   "cell_type": "code",
   "execution_count": 72,
   "metadata": {},
   "outputs": [
    {
     "data": {
      "text/plain": [
       "array([ 5.81716906, 10.61464526,  4.91741059])"
      ]
     },
     "execution_count": 72,
     "metadata": {},
     "output_type": "execute_result"
    }
   ],
   "source": [
    "vari = np.array([np.var(ret_1)])\n",
    "vari = np.append(vari, np.var(ret_2))\n",
    "vari = np.append(vari, np.var(ret_3))\n",
    "vari"
   ]
  },
  {
   "cell_type": "code",
   "execution_count": 73,
   "metadata": {},
   "outputs": [
    {
     "data": {
      "text/plain": [
       "array([ 0.19126922,  0.23624392, -0.40406452])"
      ]
     },
     "execution_count": 73,
     "metadata": {},
     "output_type": "execute_result"
    }
   ],
   "source": [
    "(time_in - 1000*state1)/(1000*vari*(state1)**3)**(0.5)"
   ]
  },
  {
   "cell_type": "code",
   "execution_count": 74,
   "metadata": {},
   "outputs": [
    {
     "data": {
      "text/plain": [
       "0.6052501398101104"
      ]
     },
     "metadata": {},
     "output_type": "display_data"
    },
    {
     "data": {
      "text/plain": [
       "0.3682923720333496"
      ]
     },
     "metadata": {},
     "output_type": "display_data"
    },
    {
     "data": {
      "text/plain": [
       "0.5575884390235785"
      ]
     },
     "metadata": {},
     "output_type": "display_data"
    }
   ],
   "source": [
    "display(stats.norm.cdf(0.26696031))\n",
    "display(stats.norm.cdf(-0.33637945))\n",
    "display(stats.norm.cdf(0.14485783))"
   ]
  },
  {
   "cell_type": "code",
   "execution_count": 75,
   "metadata": {},
   "outputs": [
    {
     "data": {
      "text/plain": [
       "2.8699551569506725"
      ]
     },
     "execution_count": 75,
     "metadata": {},
     "output_type": "execute_result"
    }
   ],
   "source": [
    "np.mean(ret_1)"
   ]
  },
  {
   "cell_type": "code",
   "execution_count": null,
   "metadata": {},
   "outputs": [],
   "source": []
  }
 ],
 "metadata": {
  "kernelspec": {
   "display_name": "Python 3",
   "language": "python",
   "name": "python3"
  },
  "language_info": {
   "codemirror_mode": {
    "name": "ipython",
    "version": 3
   },
   "file_extension": ".py",
   "mimetype": "text/x-python",
   "name": "python",
   "nbconvert_exporter": "python",
   "pygments_lexer": "ipython3",
   "version": "3.7.6"
  }
 },
 "nbformat": 4,
 "nbformat_minor": 4
}
